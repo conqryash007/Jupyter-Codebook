{
 "cells": [
  {
   "cell_type": "code",
   "execution_count": 14,
   "id": "6b9bb2c7",
   "metadata": {},
   "outputs": [],
   "source": [
    "from selenium import webdriver\n",
    "from selenium.webdriver.common.keys import Keys"
   ]
  },
  {
   "cell_type": "code",
   "execution_count": 15,
   "id": "28f75780",
   "metadata": {},
   "outputs": [
    {
     "name": "stderr",
     "output_type": "stream",
     "text": [
      "\n",
      "\n",
      "====== WebDriver manager ======\n",
      "Current google-chrome version is 99.0.4844\n",
      "Get LATEST chromedriver version for 99.0.4844 google-chrome\n",
      "Driver [C:\\Users\\hp\\.wdm\\drivers\\chromedriver\\win32\\99.0.4844.51\\chromedriver.exe] found in cache\n"
     ]
    }
   ],
   "source": [
    "from selenium import webdriver\n",
    "from selenium.webdriver.chrome.service import Service\n",
    "from webdriver_manager.chrome import ChromeDriverManager\n",
    "from selenium.webdriver.common.by import By\n",
    "\n",
    "s=Service(ChromeDriverManager().install())\n",
    "driver = webdriver.Chrome(service=s)\n",
    "driver.maximize_window()\n",
    "driver.get('https://www.google.com')"
   ]
  },
  {
   "cell_type": "code",
   "execution_count": 16,
   "id": "51bd1188",
   "metadata": {},
   "outputs": [],
   "source": [
    "driver.get('https://web.whatsapp.com')"
   ]
  },
  {
   "cell_type": "code",
   "execution_count": 12,
   "id": "63d1027e",
   "metadata": {},
   "outputs": [
    {
     "name": "stderr",
     "output_type": "stream",
     "text": [
      "C:\\Users\\hp\\AppData\\Local\\Temp\\ipykernel_9048\\2080534257.py:2: DeprecationWarning: find_element_by_* commands are deprecated. Please use find_element() instead\n",
      "  driver.find_element_by_xpath(\"//*[@id=\\\"pane-side\\\"]/div[1]/div/div/div[11]/div/div/div[2]/div[1]/div[1]/span\").click()\n"
     ]
    }
   ],
   "source": [
    "# By.xpath(\"//*[@id=\\\"pane-side\\\"]/div[1]/div/div/div[11]/div/div/div[2]/div[1]\")\n",
    "driver.find_element_by_xpath(\"//*[@id=\\\"pane-side\\\"]/div[1]/div/div/div[11]/div/div/div[2]/div[1]/div[1]/span\").click()"
   ]
  },
  {
   "cell_type": "code",
   "execution_count": 5,
   "id": "48ba5538",
   "metadata": {},
   "outputs": [],
   "source": [
    "# search_ele = driver.find_element(By.XPATH,\"//*[@id=\\\"main\\\"]/header/div[2]/div[1]/div/span\")\n",
    "# search_ele.send_keys(\"un\")"
   ]
  },
  {
   "cell_type": "code",
   "execution_count": 6,
   "id": "f6bd59b1",
   "metadata": {},
   "outputs": [],
   "source": [
    "# search_ele.click()\n"
   ]
  },
  {
   "cell_type": "code",
   "execution_count": 17,
   "id": "453ebb3b",
   "metadata": {},
   "outputs": [],
   "source": [
    "names_ele = driver.find_element(By.XPATH,\"//*[@id=\\\"main\\\"]/header/div[2]/div[2]/span\")\n"
   ]
  },
  {
   "cell_type": "code",
   "execution_count": 18,
   "id": "85af9a2e",
   "metadata": {},
   "outputs": [],
   "source": [
    "names = names_ele.text"
   ]
  },
  {
   "cell_type": "code",
   "execution_count": 19,
   "id": "c707b4dc",
   "metadata": {},
   "outputs": [],
   "source": [
    "names = names.split(\", \")\n",
    "final=[]"
   ]
  },
  {
   "cell_type": "code",
   "execution_count": 20,
   "id": "ab02e7b4",
   "metadata": {},
   "outputs": [],
   "source": [
    "for i,x in enumerate(names):\n",
    "    final.append(\"@\"+names[i])\n",
    "    "
   ]
  },
  {
   "cell_type": "code",
   "execution_count": 23,
   "id": "10a81c61",
   "metadata": {},
   "outputs": [
    {
     "name": "stdout",
     "output_type": "stream",
     "text": [
      "['@Aayush', '@Aditya', '@Añimesh', '@Ayush', '@Bharat', '@Biswajit', '@Chinmay', '@Deepanshu', '@Dibyalipsa', '@Gursimrat', '@Kabir', '@Nilesh', '@Omkar', '@Padmakshi', '@Purna', '@RAVI', '@Roshan', '@Sandeep', '@Satyajit', '@Satyaprakash', '@Shubham', '@Simran', '@Soumyajeet', '@Sourav', '@Vaibhav', '@Vansh', '@Vicky', '@Virag', '@Vishal', '@Yash', '@+91 6299 258 548', '@+91 6370 140 750', '@+91 6370 333 030', '@+91 6371 438 600', '@+91 6371 737 956', '@+91 6372 999 542', '@+91 70087 23690', '@+91 70774 81701', '@+91 72178 97280', '@+91 72408 38042', '@+91 72507 94009', '@+91 73749 18735', '@+91 75495 72066', '@+91 78091 25828', '@+91 78159 00314', '@+91 79798 64223', '@+91 82495 28933', '@+91 82606 16381', '@+91 83277 09528', '@+91 83277 91117', '@+91 83682 96466', '@+91 84805 24707', '@+91 85005 38008', '@+91 87631 11280', '@+91 89840 49520', '@+91 90053 42044', '@+91 91821 53287', '@+91 93483 74890', '@+91 93489 09448', '@+91 94266 84781', '@+91 94398 46439', '@+91 95151 69946']\n"
     ]
    }
   ],
   "source": [
    "final.pop()\n",
    "print(final)"
   ]
  },
  {
   "cell_type": "code",
   "execution_count": 24,
   "id": "dfe5ed2c",
   "metadata": {},
   "outputs": [],
   "source": [
    "text_box = driver.find_element(By.XPATH,\"//*[@id=\\\"main\\\"]/footer/div[1]/div/span[2]/div/div[2]/div[1]/div/div[2]\")"
   ]
  },
  {
   "cell_type": "code",
   "execution_count": 25,
   "id": "500f7eeb",
   "metadata": {},
   "outputs": [],
   "source": [
    "text_box.click()"
   ]
  },
  {
   "cell_type": "code",
   "execution_count": 26,
   "id": "8e43a3c4",
   "metadata": {},
   "outputs": [],
   "source": [
    "text_box.send_keys(Keys.ENTER)"
   ]
  },
  {
   "cell_type": "code",
   "execution_count": 27,
   "id": "9b1f594d",
   "metadata": {},
   "outputs": [],
   "source": [
    "for x in final:\n",
    "    text_box.send_keys(x)\n",
    "    text_box.send_keys(Keys.ENTER)"
   ]
  },
  {
   "cell_type": "code",
   "execution_count": null,
   "id": "c2dec525",
   "metadata": {},
   "outputs": [],
   "source": []
  }
 ],
 "metadata": {
  "kernelspec": {
   "display_name": "Python 3 (ipykernel)",
   "language": "python",
   "name": "python3"
  },
  "language_info": {
   "codemirror_mode": {
    "name": "ipython",
    "version": 3
   },
   "file_extension": ".py",
   "mimetype": "text/x-python",
   "name": "python",
   "nbconvert_exporter": "python",
   "pygments_lexer": "ipython3",
   "version": "3.10.1"
  }
 },
 "nbformat": 4,
 "nbformat_minor": 5
}
